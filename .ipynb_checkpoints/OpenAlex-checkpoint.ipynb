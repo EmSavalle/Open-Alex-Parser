{
 "cells": [
  {
   "cell_type": "code",
   "execution_count": 1,
   "id": "5238765e",
   "metadata": {},
   "outputs": [],
   "source": [
    "import requests\n",
    "import pprint\n",
    "import json\n",
    "import pandas as pd\n",
    "import math"
   ]
  },
  {
   "cell_type": "code",
   "execution_count": 2,
   "id": "856624ac",
   "metadata": {},
   "outputs": [],
   "source": [
    "perpage=200"
   ]
  },
  {
   "cell_type": "code",
   "execution_count": 3,
   "id": "20f96b17",
   "metadata": {},
   "outputs": [],
   "source": [
    "customName = \"MySearch\"\n",
    "keywords_title = []\n",
    "keywords_abstract =  [\"presence\",\"EEG\",\"Virtual\",\"Reality\"]"
   ]
  },
  {
   "cell_type": "code",
   "execution_count": 4,
   "id": "1b484a86",
   "metadata": {},
   "outputs": [],
   "source": [
    "def prodUrl(keywords_title,keywords_abstract,page=0,perpage=perpage):\n",
    "    request = \"https://api.openalex.org/works?\"\n",
    "    req=request\n",
    "    search = \"per-page=\"+str(perpage)+\"&\"\n",
    "    req = req+search\n",
    "    if(page!=0):\n",
    "        search = \"page=\"+str(page)+\"&\"\n",
    "    req = req+search\n",
    "    req = req+\"filter=\"\n",
    "    if(keywords_title!=[]):\n",
    "        search = \"title.search:\"\n",
    "        for i in range(0,len(keywords_title)):\n",
    "            if(i != len(keywords_title)-1):\n",
    "                search+=keywords_title[i]+\"%26\"\n",
    "            else:\n",
    "                search+=keywords_title[i]\n",
    "        req = req+search+','\n",
    "    search = \"abstract.search:\"\n",
    "    for i in range(0,len(keywords_abstract)):\n",
    "        if(i != len(keywords_abstract)-1):\n",
    "            search+=keywords_abstract[i]+\"%26\"\n",
    "        else:\n",
    "            search+=keywords_abstract[i]\n",
    "    req = req+search+','\n",
    "    \n",
    "    if(req[-1]==','):\n",
    "        req=req[:-1]\n",
    "    return req\n",
    "def getResults(req):\n",
    "    response = requests.get(url=req)\n",
    "    response.raise_for_status()\n",
    "    random_work = response.json()\n",
    "    return random_work\n",
    "\n",
    "def saveResults(random_work,name):\n",
    "    with open(\"sample.json\", \"w\") as outfile:\n",
    "        json.dump(random_work, outfile)\n",
    "    \n",
    "    df = pd.read_json ('sample.json')\n",
    "    df.to_csv (name+\".csv\", index = None)"
   ]
  },
  {
   "cell_type": "code",
   "execution_count": 6,
   "id": "176164a2",
   "metadata": {},
   "outputs": [],
   "source": [
    "url = prodUrl(keywords_title,keywords_abstract)\n",
    "res = getResults(url)\n",
    "nb_results = res['meta']['count']\n",
    "nb_page = math.ceil(nb_results/perpage)\n",
    "results = []\n",
    "for i in range(0,nb_page):\n",
    "    url = prodUrl(keywords_title,keywords_abstract,page=i)\n",
    "    res = getResults(url)\n",
    "    results+=res['results']\n",
    "\n",
    "saveResults(results,customName)"
   ]
  }
 ],
 "metadata": {
  "kernelspec": {
   "display_name": "Python 3 (ipykernel)",
   "language": "python",
   "name": "python3"
  },
  "language_info": {
   "codemirror_mode": {
    "name": "ipython",
    "version": 3
   },
   "file_extension": ".py",
   "mimetype": "text/x-python",
   "name": "python",
   "nbconvert_exporter": "python",
   "pygments_lexer": "ipython3",
   "version": "3.9.13"
  }
 },
 "nbformat": 4,
 "nbformat_minor": 5
}
